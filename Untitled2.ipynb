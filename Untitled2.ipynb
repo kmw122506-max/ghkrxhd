{
  "nbformat": 4,
  "nbformat_minor": 0,
  "metadata": {
    "colab": {
      "provenance": [],
      "authorship_tag": "ABX9TyOHM7wjPJpOXaou/ttxniYj",
      "include_colab_link": true
    },
    "kernelspec": {
      "name": "python3",
      "display_name": "Python 3"
    },
    "language_info": {
      "name": "python"
    }
  },
  "cells": [
    {
      "cell_type": "markdown",
      "metadata": {
        "id": "view-in-github",
        "colab_type": "text"
      },
      "source": [
        "<a href=\"https://colab.research.google.com/github/kmw122506-max/ghkrxhd/blob/main/Untitled2.ipynb\" target=\"_parent\"><img src=\"https://colab.research.google.com/assets/colab-badge.svg\" alt=\"Open In Colab\"/></a>"
      ]
    },
    {
      "cell_type": "code",
      "execution_count": 1,
      "metadata": {
        "colab": {
          "base_uri": "https://localhost:8080/"
        },
        "id": "oL7yw2ErXaC1",
        "outputId": "a5f680bb-18c0-4173-ae25-cda0ab69ff46"
      },
      "outputs": [
        {
          "output_type": "execute_result",
          "data": {
            "text/plain": [
              "0.2"
            ]
          },
          "metadata": {},
          "execution_count": 1
        }
      ],
      "source": [
        "red_balls=2\n",
        "blue_balls=3\n",
        "green_balls=5\n",
        "favorable_outcomes=red_balls\n",
        "total_outcomes=red_balls+blue_balls+green_balls\n",
        "probability=favorable_outcomes/total_outcomes\n",
        "probability"
      ]
    },
    {
      "cell_type": "code",
      "source": [],
      "metadata": {
        "id": "eMd5W8ScXcLo"
      },
      "execution_count": null,
      "outputs": []
    }
  ]
}