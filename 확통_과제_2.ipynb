{
  "nbformat": 4,
  "nbformat_minor": 0,
  "metadata": {
    "colab": {
      "provenance": [],
      "authorship_tag": "ABX9TyNOZTmo8NHeoJigdMkZ89gL",
      "include_colab_link": true
    },
    "kernelspec": {
      "name": "python3",
      "display_name": "Python 3"
    },
    "language_info": {
      "name": "python"
    }
  },
  "cells": [
    {
      "cell_type": "markdown",
      "metadata": {
        "id": "view-in-github",
        "colab_type": "text"
      },
      "source": [
        "<a href=\"https://colab.research.google.com/github/kmw122506-max/ghkrxhd/blob/main/%ED%99%95%ED%86%B5_%EA%B3%BC%EC%A0%9C_2.ipynb\" target=\"_parent\"><img src=\"https://colab.research.google.com/assets/colab-badge.svg\" alt=\"Open In Colab\"/></a>"
      ]
    },
    {
      "cell_type": "code",
      "execution_count": 1,
      "metadata": {
        "colab": {
          "base_uri": "https://localhost:8080/"
        },
        "id": "K-o2TUsgXM_f",
        "outputId": "d04c8002-19bf-4add-8a13-46548a92a569"
      },
      "outputs": [
        {
          "output_type": "execute_result",
          "data": {
            "text/plain": [
              "({1, 2, 3, 5}, {1}, {3, 4, 5, 6}, {2, 4, 6})"
            ]
          },
          "metadata": {},
          "execution_count": 1
        }
      ],
      "source": [
        "S={1,2,3,4,5,6}\n",
        "A={1,2}\n",
        "B={1,3,5}\n",
        "union_AB=A.union(B)\n",
        "intersection_AB=A.intersection(B)\n",
        "complement_A=S.difference(A)\n",
        "complement_B=S.difference(B)\n",
        "union_AB,intersection_AB,complement_A,complement_B"
      ]
    },
    {
      "cell_type": "code",
      "source": [],
      "metadata": {
        "id": "fAB61K58XQVX"
      },
      "execution_count": null,
      "outputs": []
    }
  ]
}